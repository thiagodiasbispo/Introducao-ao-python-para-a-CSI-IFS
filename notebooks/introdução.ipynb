{
 "cells": [
  {
   "cell_type": "markdown",
   "metadata": {
    "slideshow": {
     "slide_type": "slide"
    }
   },
   "source": [
    "# **Resultado da votação**\n",
    "***"
   ]
  },
  {
   "cell_type": "markdown",
   "metadata": {},
   "source": [
    "![Votação](imagens/sobre_este_curso.png)"
   ]
  },
  {
   "cell_type": "markdown",
   "metadata": {
    "slideshow": {
     "slide_type": "subslide"
    }
   },
   "source": [
    "![Nível de conhecimento](imagens/nivel_conhecimento_python.png)"
   ]
  },
  {
   "cell_type": "markdown",
   "metadata": {
    "slideshow": {
     "slide_type": "slide"
    }
   },
   "source": [
    "# **Ementa**\n",
    "***\n",
    "* **Primeiro dia**\n",
    "    - Introdução ao python: conceitos gerais sobre a linguagem\n",
    "    - Variáveis, tipos primitivos, funções, pacotes e módulos, orientação a objetos\n",
    "    - Boas práticas no desenvolvimento com Python\n",
    "    - Estudos de caso ligados a serviços e demandas da DTI\n"
   ]
  },
  {
   "cell_type": "markdown",
   "metadata": {
    "slideshow": {
     "slide_type": "subslide"
    }
   },
   "source": [
    "\n",
    "\n",
    "* **Segundo Dia**\n",
    " - Manipulando Bases de dados relacionais com o SqlAlchemy\n",
    " - Criação de APIs RestFull com o micro-framework Flask\n",
    " - Introdução à criação de sistemas web com o framework Django\n",
    " - Estudos de caso ligados a serviços e demandas da DTI"
   ]
  },
  {
   "cell_type": "markdown",
   "metadata": {
    "slideshow": {
     "slide_type": "slide"
    }
   },
   "source": [
    "# **Referências**\n",
    "***\n",
    "1. Livro [Python para Desenvolvedores](https://edisciplinas.usp.br/pluginfile.php/3252265/mod_resource/content/1/b_Borges_Python_para_desenvolvedores_2ed.pdf)\n",
    "1. Python Cookbook, 3rd Edition\n",
    "1. Fluent Python - Clear, Concise and Effective Programming-O’Reilly Media (2015)"
   ]
  },
  {
   "cell_type": "markdown",
   "metadata": {
    "slideshow": {
     "slide_type": "subslide"
    }
   },
   "source": [
    "# **Dinâmica do curso**\n",
    "***\n",
    "1. Exposição do assunto por meio de Slides\n",
    "1. Codificação dos estudos de caso e exercícios no [Repl.it](https://repl.it/)"
   ]
  },
  {
   "cell_type": "markdown",
   "metadata": {
    "slideshow": {
     "slide_type": "slide"
    }
   },
   "source": [
    "# **Conceitos gerais sobre o Python** \n",
    "***\n",
    "* Linguagem de **script**, propósito geral e alto nível.\n",
    "    - Adicionar novas funcionalidades a softwares existentes. <br/>\n",
    "    - Listas, tuplas, dicionários, data/hora, números complexos <br/>\n",
    "    - Geradores, introspecção, persistência, metaclasses, e unidades de teste"
   ]
  },
  {
   "cell_type": "markdown",
   "metadata": {
    "slideshow": {
     "slide_type": "subslide"
    }
   },
   "source": [
    "* Orientada a objetos, de tipagem **dinâmica e forte**, **interpretada** e **interativa**."
   ]
  },
  {
   "cell_type": "markdown",
   "metadata": {},
   "source": [
    "![Votação](imagens/imagem_exemplo_1.png)"
   ]
  },
  {
   "cell_type": "markdown",
   "metadata": {
    "slideshow": {
     "slide_type": "subslide"
    }
   },
   "source": [
    "* Multiplatarfoma e geração de **_bytecode_**.\n",
    "    - Redução do tempo de carga na execução.\n",
    "    - Máquina Virtual.\n",
    "    - Código **_bytecode_* portável: **.pyc**"
   ]
  },
  {
   "cell_type": "markdown",
   "metadata": {
    "slideshow": {
     "slide_type": "subslide"
    }
   },
   "source": [
    "* Sintaxe clara, fato que favorece a **legibilidade** do código e **produtividade**.\n",
    "    * Estruturação do código através de espaços\n",
    "    * Sem uso de colchetes"
   ]
  },
  {
   "cell_type": "code",
   "execution_count": 1,
   "metadata": {
    "slideshow": {
     "slide_type": "subslide"
    }
   },
   "outputs": [
    {
     "data": {
      "text/plain": [
       "[56.2, 51.7, 55.3, 52.5, 47.8]"
      ]
     },
     "execution_count": 1,
     "metadata": {},
     "output_type": "execute_result"
    }
   ],
   "source": [
    "import math\n",
    "raw_data = [56.2, float('NaN'), 51.7, 55.3, 52.5, float('NaN'), 47.8]\n",
    "filtered_data = []\n",
    "for value in raw_data:\n",
    "    if not math.isnan(value):\n",
    "        filtered_data.append(value)\n",
    "filtered_data"
   ]
  },
  {
   "cell_type": "code",
   "execution_count": 2,
   "metadata": {
    "slideshow": {
     "slide_type": "subslide"
    }
   },
   "outputs": [
    {
     "data": {
      "text/plain": [
       "[56.2, 51.7, 55.3, 52.5, 47.8]"
      ]
     },
     "execution_count": 2,
     "metadata": {},
     "output_type": "execute_result"
    }
   ],
   "source": [
    "# Faz o mesmo que o código anterior, porém é mais pythonico\n",
    "\n",
    "import math\n",
    "raw_data = [56.2, float('NaN'), 51.7, 55.3, 52.5, float('NaN'), 47.8]\n",
    "\n",
    "filtered_data = [value for value in raw_data if not math.isnan(value)] # List comprehention\n",
    "\n",
    "filtered_data"
   ]
  },
  {
   "cell_type": "markdown",
   "metadata": {
    "slideshow": {
     "slide_type": "subslide"
    }
   },
   "source": [
    "* Código aberto e mantido pela **Python Software Founfdation** (PSF)"
   ]
  },
  {
   "cell_type": "markdown",
   "metadata": {
    "slideshow": {
     "slide_type": "slide"
    }
   },
   "source": [
    "# **Principais estruturas** \n",
    "***\n",
    "## **Operadores lógicos:**\n",
    "* ***and***, ***or***, ***not***, ***in***, ***is***, ***<>***\n",
    "* Operadores com sintaxe verbosa são mais legíveis.\n",
    "    * Compare com os operadores lógicos de Java: &&, ||"
   ]
  },
  {
   "cell_type": "code",
   "execution_count": 3,
   "metadata": {
    "slideshow": {
     "slide_type": "fragment"
    }
   },
   "outputs": [
    {
     "name": "stdout",
     "output_type": "stream",
     "text": [
      "Vou fazer o curso:  False\n"
     ]
    }
   ],
   "source": [
    "python_eh_legal = True\n",
    "quero_aprender_python = False\n",
    "\n",
    "vou_fazer_o_curso = python_eh_legal and quero_aprender_python\n",
    "\n",
    "print(\"Vou fazer o curso: \", vou_fazer_o_curso)"
   ]
  },
  {
   "cell_type": "code",
   "execution_count": 4,
   "metadata": {
    "slideshow": {
     "slide_type": "fragment"
    }
   },
   "outputs": [
    {
     "name": "stdout",
     "output_type": "stream",
     "text": [
      "Não vou fazer o curso:  True\n"
     ]
    }
   ],
   "source": [
    "nao_vou_fazer_o_curso = not python_eh_legal or not quero_aprender_python\n",
    "\n",
    "print(\"Não vou fazer o curso: \", nao_vou_fazer_o_curso)"
   ]
  },
  {
   "cell_type": "code",
   "execution_count": 5,
   "metadata": {
    "slideshow": {
     "slide_type": "subslide"
    }
   },
   "outputs": [
    {
     "name": "stdout",
     "output_type": "stream",
     "text": [
      "Gosto de python:  True\n"
     ]
    }
   ],
   "source": [
    "linguagens_que_gosto = [\"java\", \"php\", \"shell\", \"python\"]\n",
    "gosto_de_python = \"python\" in linguagens_que_gosto\n",
    "\n",
    "print(\"Gosto de python: \", gosto_de_python)"
   ]
  },
  {
   "cell_type": "markdown",
   "metadata": {
    "slideshow": {
     "slide_type": "slide"
    }
   },
   "source": [
    "## **Controle de fluxo:**\n",
    "***\n",
    "``` python\n",
    "    if False:\n",
    "        print(\"False\")\n",
    "    elif True:\n",
    "        print(\"True\")\n",
    "    else:\n",
    "        print(\"Condicão inalcançavel!\")\n",
    "```"
   ]
  },
  {
   "cell_type": "code",
   "execution_count": 6,
   "metadata": {},
   "outputs": [
    {
     "name": "stdout",
     "output_type": "stream",
     "text": [
      "Sim, vou fazer o curso!\n"
     ]
    }
   ],
   "source": [
    "python_eh_legal = True\n",
    "quero_aprender_python = True\n",
    "\n",
    "vou_fazer_o_curso = python_eh_legal and quero_aprender_python\n",
    "\n",
    "if vou_fazer_o_curso:\n",
    "    print(\"Sim, vou fazer o curso!\")\n",
    "else:\n",
    "    print(\"Não, não vou fazer o curso!\")"
   ]
  },
  {
   "cell_type": "code",
   "execution_count": 7,
   "metadata": {
    "slideshow": {
     "slide_type": "fragment"
    }
   },
   "outputs": [
    {
     "name": "stdout",
     "output_type": "stream",
     "text": [
      "Sim, vou fazer o curso!\n"
     ]
    }
   ],
   "source": [
    "python_eh_legal = True\n",
    "quero_aprender_python = True\n",
    "\n",
    "nao_vou_fazer_o_curso = not python_eh_legal or not quero_aprender_python\n",
    "\n",
    "if nao_vou_fazer_o_curso:\n",
    "    print(\"Não, não vou fazer o curso!\")\n",
    "else:\n",
    "    print(\"Sim, vou fazer o curso!\")"
   ]
  },
  {
   "cell_type": "code",
   "execution_count": 8,
   "metadata": {
    "slideshow": {
     "slide_type": "subslide"
    }
   },
   "outputs": [
    {
     "name": "stdout",
     "output_type": "stream",
     "text": [
      "Entendi, é porque tem compromisso!\n"
     ]
    }
   ],
   "source": [
    "python_eh_legal = True\n",
    "quero_aprender_python = False\n",
    "\n",
    "tenho_compromisso_no_dia = True\n",
    "vou_fazer_o_curso = False\n",
    "\n",
    "if vou_fazer_o_curso:\n",
    "    print(\"Vou fazer o curso!\")\n",
    "elif python_eh_legal and quero_aprender_python:\n",
    "    print(\"Oxe, e porque não vai para o curso?\")\n",
    "elif tenho_compromisso_no_dia:\n",
    "    print(\"Entendi, é porque tem compromisso!\")\n",
    "else:\n",
    "    print(\"¬¬\")\n",
    "    "
   ]
  },
  {
   "cell_type": "code",
   "execution_count": 9,
   "metadata": {
    "slideshow": {
     "slide_type": "subslide"
    }
   },
   "outputs": [
    {
     "name": "stdout",
     "output_type": "stream",
     "text": [
      "Não\n"
     ]
    }
   ],
   "source": [
    "# Operador ternário\n",
    "vou_nao_vou = \"Sim\" if python_eh_legal and quero_aprender_python else \"Não\"\n",
    "print(vou_nao_vou)"
   ]
  },
  {
   "cell_type": "markdown",
   "metadata": {
    "slideshow": {
     "slide_type": "slide"
    }
   },
   "source": [
    "## **Tipos:**\n",
    "***\n",
    "<br/>\n",
    "\n",
    "``` python\n",
    "numéricos = int,float,complex\n",
    "texto = str\n",
    "boleanos = bool\n",
    "colecões = list, tuple, dict\n",
    "``` \n",
    "\n",
    "* Os tipos são **dinamicamente inferidos**\n",
    "* Verificação dinâmica do tipo da variável:"
   ]
  },
  {
   "cell_type": "code",
   "execution_count": 10,
   "metadata": {
    "slideshow": {
     "slide_type": "subslide"
    }
   },
   "outputs": [
    {
     "data": {
      "text/plain": [
       "(int, float, str, bool)"
      ]
     },
     "execution_count": 10,
     "metadata": {},
     "output_type": "execute_result"
    }
   ],
   "source": [
    "type(1), type(2.3), type(\"Python\"), type(True)"
   ]
  },
  {
   "cell_type": "markdown",
   "metadata": {
    "slideshow": {
     "slide_type": "slide"
    }
   },
   "source": [
    "### **Tipos numéricos:**\n",
    "<br/>\n",
    "\n",
    "``` python\n",
    "numéricos = int,float,complex\n",
    "``` "
   ]
  },
  {
   "cell_type": "code",
   "execution_count": 11,
   "metadata": {
    "slideshow": {
     "slide_type": "fragment"
    }
   },
   "outputs": [
    {
     "name": "stdout",
     "output_type": "stream",
     "text": [
      "Soma:  3.1\n",
      "Diferença:  2.9\n",
      "Multiplicação:  12.0\n",
      "Divisão:  2.0\n",
      "Divisão inteira:  2\n",
      "Exponenciação inteira:  16\n",
      "Resto da divisão:  0\n"
     ]
    }
   ],
   "source": [
    "valor_produto = 3.\n",
    "taxa = 0.1\n",
    "quantidade = 4\n",
    "\n",
    "print(\"Soma: \", valor_produto + taxa)\n",
    "print(\"Diferença: \", valor_produto - taxa)\n",
    "print(\"Multiplicação: \", valor_produto * quantidade)\n",
    "print(\"Divisão: \", quantidade/2)\n",
    "print(\"Divisão inteira: \", quantidade//2)\n",
    "print(\"Exponenciação inteira: \", quantidade**2)\n",
    "print(\"Resto da divisão: \", quantidade%2)"
   ]
  },
  {
   "cell_type": "markdown",
   "metadata": {
    "slideshow": {
     "slide_type": "slide"
    }
   },
   "source": [
    "### **String:**\n",
    "***\n",
    "<br/>\n",
    "\n",
    "* **String tipos imutáveis**, logo não é possível alterar, inserir ou excluir qualquer elemento delas.\n",
    "* **Para realizar** essas operações, é preciso **criar uma nova string**."
   ]
  },
  {
   "cell_type": "code",
   "execution_count": 12,
   "metadata": {
    "slideshow": {
     "slide_type": "fragment"
    }
   },
   "outputs": [
    {
     "name": "stdout",
     "output_type": "stream",
     "text": [
      "Python\n"
     ]
    }
   ],
   "source": [
    "string_aspas_duplas = \"Python\"\n",
    "print(string_aspas_duplas)"
   ]
  },
  {
   "cell_type": "code",
   "execution_count": 13,
   "metadata": {
    "slideshow": {
     "slide_type": "fragment"
    }
   },
   "outputs": [
    {
     "name": "stdout",
     "output_type": "stream",
     "text": [
      "Python\n"
     ]
    }
   ],
   "source": [
    "string_aspas_simples = 'Python'\n",
    "print(string_aspas_duplas)"
   ]
  },
  {
   "cell_type": "code",
   "execution_count": 14,
   "metadata": {
    "slideshow": {
     "slide_type": "fragment"
    }
   },
   "outputs": [
    {
     "name": "stdout",
     "output_type": "stream",
     "text": [
      "    Primeira linha \n",
      "    Segunda linha \n",
      "    ♥\n"
     ]
    }
   ],
   "source": [
    "string_multiplas_linhas = \"\\\n",
    "    Primeira linha \\n\\\n",
    "    Segunda linha \\n\\\n",
    "    \\u2665\\\n",
    "\"\n",
    "print(string_multiplas_linhas)"
   ]
  },
  {
   "cell_type": "code",
   "execution_count": 15,
   "metadata": {
    "slideshow": {
     "slide_type": "subslide"
    }
   },
   "outputs": [
    {
     "name": "stdout",
     "output_type": "stream",
     "text": [
      "\n",
      "    Primeira linha\n",
      "    Segunda linha\n",
      "    ▶\n",
      "\n"
     ]
    }
   ],
   "source": [
    "string_aspas_triplas = \"\"\"\n",
    "    Primeira linha\n",
    "    Segunda linha\n",
    "    ▶\n",
    "\"\"\"\n",
    "print(string_aspas_triplas)"
   ]
  },
  {
   "cell_type": "markdown",
   "metadata": {
    "slideshow": {
     "slide_type": "slide"
    }
   },
   "source": [
    "### **Operações com string:**"
   ]
  },
  {
   "cell_type": "code",
   "execution_count": 16,
   "metadata": {
    "slideshow": {
     "slide_type": "subslide"
    }
   },
   "outputs": [
    {
     "name": "stdout",
     "output_type": "stream",
     "text": [
      "Estamos no Instituto Federal de Sergipe\n"
     ]
    }
   ],
   "source": [
    "nome = \"Instituto Federal\"\n",
    "\n",
    "#Concatenação\n",
    "print(\"Estamos no \" + nome + \" de Sergipe\") #Prática horrível"
   ]
  },
  {
   "cell_type": "code",
   "execution_count": 17,
   "metadata": {
    "slideshow": {
     "slide_type": "subslide"
    }
   },
   "outputs": [
    {
     "name": "stdout",
     "output_type": "stream",
     "text": [
      "Estamos no Instituto Federal de Sergipe, Campus Aracaju\n",
      "Estamos no Instituto Federal de Sergipe, Campus Aracaju, Número: 9999\n",
      "Float: 0.100000\n"
     ]
    }
   ],
   "source": [
    "# Interpolação (Old style)\n",
    "print(\"Estamos no %s de Sergipe, %s\"%(nome, \"Campus Aracaju\"))\n",
    "print(\"Estamos no %s de Sergipe, %s, Número: %d\"%(nome, \"Campus Aracaju\", 9999))\n",
    "print(\"Float: %f\"%(.1))"
   ]
  },
  {
   "cell_type": "code",
   "execution_count": 18,
   "metadata": {
    "slideshow": {
     "slide_type": "subslide"
    }
   },
   "outputs": [
    {
     "name": "stdout",
     "output_type": "stream",
     "text": [
      "Estamos no Instituto Federal de Sergipe, Campus Aracaju\n"
     ]
    }
   ],
   "source": [
    "# Interpolação (Maneira elegante):\n",
    "\n",
    "print(\"Estamos no {} de Sergipe, {}\".format(nome, \"Campus Aracaju\"))"
   ]
  },
  {
   "cell_type": "code",
   "execution_count": 19,
   "metadata": {
    "slideshow": {
     "slide_type": "fragment"
    }
   },
   "outputs": [
    {
     "name": "stdout",
     "output_type": "stream",
     "text": [
      "Estamos no Instituto Federal de Sergipe, Campus Aracaju\n"
     ]
    }
   ],
   "source": [
    "print(\"Estamos no {nome_ifs} de Sergipe, {campus}\".format(nome_ifs=nome, campus=\"Campus Aracaju\"))"
   ]
  },
  {
   "cell_type": "code",
   "execution_count": 20,
   "metadata": {
    "slideshow": {
     "slide_type": "fragment"
    }
   },
   "outputs": [
    {
     "name": "stdout",
     "output_type": "stream",
     "text": [
      "Estamos no Instituto Federal de Sergipe, Campus Aracaju, Número: 9999\n"
     ]
    }
   ],
   "source": [
    "print(\"Estamos no {:s} de Sergipe, {:s}, Número: {:d}\".format(nome, \"Campus Aracaju\", 9999))"
   ]
  },
  {
   "cell_type": "code",
   "execution_count": 21,
   "metadata": {
    "slideshow": {
     "slide_type": "fragment"
    }
   },
   "outputs": [
    {
     "name": "stdout",
     "output_type": "stream",
     "text": [
      "Float: 0.100000\n"
     ]
    }
   ],
   "source": [
    "print(\"Float: {:f}\".format(.1))"
   ]
  },
  {
   "cell_type": "code",
   "execution_count": 22,
   "metadata": {
    "slideshow": {
     "slide_type": "subslide"
    }
   },
   "outputs": [
    {
     "name": "stdout",
     "output_type": "stream",
     "text": [
      "I\n",
      "n\n",
      "s\n",
      "t\n",
      "i\n",
      "t\n",
      "u\n",
      "t\n",
      "o\n",
      " \n",
      "F\n",
      "e\n",
      "d\n",
      "e\n",
      "r\n",
      "a\n",
      "l\n"
     ]
    }
   ],
   "source": [
    "# Iterando sob a string, como uma sequência de caracteres\n",
    "\n",
    "for char in nome: print(char)"
   ]
  },
  {
   "cell_type": "code",
   "execution_count": 23,
   "metadata": {
    "slideshow": {
     "slide_type": "subslide"
    }
   },
   "outputs": [
    {
     "name": "stdout",
     "output_type": "stream",
     "text": [
      "INSTITUTO FEDERAL\n",
      "instituto federal\n",
      "True False\n",
      "Instituto Federal\n",
      "['Instituto', 'Federal']\n",
      "Instituto FederalInstituto Federal\n"
     ]
    }
   ],
   "source": [
    "# Strings são objetos\n",
    "\n",
    "print(nome.upper())\n",
    "print(nome.lower())\n",
    "print(nome.startswith(\"Inst\"), nome.startswith(\"inst\")) #Case sensitive\n",
    "print(\"instituto federal\".title()) #Notem que todas as letras são minúsculas\n",
    "print(nome.split()) # Separando os elementos pela string \" \" (espaço)\n",
    "print(nome * 2)"
   ]
  },
  {
   "cell_type": "code",
   "execution_count": 24,
   "metadata": {
    "slideshow": {
     "slide_type": "subslide"
    }
   },
   "outputs": [
    {
     "name": "stdout",
     "output_type": "stream",
     "text": [
      "abcdefghijklmnopqrstuvwxyzABCDEFGHIJKLMNOPQRSTUVWXYZ\n",
      "abcdefghijklmnopqrstuvwxyz\n",
      "ABCDEFGHIJKLMNOPQRSTUVWXYZ\n",
      "0123456789\n",
      "!\"#$%&'()*+,-./:;<=>?@[\\]^_`{|}~\n"
     ]
    }
   ],
   "source": [
    "# Módulo string\n",
    "import string\n",
    "\n",
    "print(string.ascii_letters)\n",
    "print(string.ascii_lowercase)\n",
    "print(string.ascii_uppercase)\n",
    "print(string.digits)\n",
    "print(string.punctuation)"
   ]
  },
  {
   "cell_type": "markdown",
   "metadata": {
    "slideshow": {
     "slide_type": "slide"
    }
   },
   "source": [
    "### **Listas:**\n",
    "***\n",
    "<br/>\n",
    "\n",
    "* Listas são coleções **heterogêneas** de objetos, que podem ser de **qualquer tipo**, inclusive outras listas.\n",
    "* **Listas são mutáveis**, permitindo atribuições a seus índices."
   ]
  },
  {
   "cell_type": "code",
   "execution_count": 25,
   "metadata": {
    "slideshow": {
     "slide_type": "fragment"
    }
   },
   "outputs": [
    {
     "name": "stdout",
     "output_type": "stream",
     "text": [
      "['CSI', ['Coordenadoria', 'de', 'Sistemas', 'de', 'Informação'], 'IFS', None, <class 'str'>]\n",
      "<class 'list'>\n",
      "True\n"
     ]
    }
   ],
   "source": [
    "# Listas são estruturas heterogêneas\n",
    "\n",
    "dados = [\"CSI\", \"Coordenadoria de Sistemas de Informação\".split(), \"IFS\", None, str]\n",
    "\n",
    "print(dados)\n",
    "print(type(dados)) \n",
    "print(isinstance(dados, list))"
   ]
  },
  {
   "cell_type": "code",
   "execution_count": 26,
   "metadata": {
    "slideshow": {
     "slide_type": "subslide"
    }
   },
   "outputs": [
    {
     "data": {
      "text/plain": [
       "['I', 'F', 'S']"
      ]
     },
     "execution_count": 26,
     "metadata": {},
     "output_type": "execute_result"
    }
   ],
   "source": [
    "# Podemos criar listas a partir de qualquer elemento iterável\n",
    "\n",
    "cacareteres = list(\"IFS\")\n",
    "cacareteres"
   ]
  },
  {
   "cell_type": "code",
   "execution_count": 27,
   "metadata": {
    "slideshow": {
     "slide_type": "subslide"
    }
   },
   "outputs": [
    {
     "name": "stdout",
     "output_type": "stream",
     "text": [
      "Primeiro elemento: SIGAA\n",
      "Último elemento: REDMINE\n",
      "Último elemento: REDMINE\n"
     ]
    }
   ],
   "source": [
    "# Acessando elementos\n",
    "sistemas_ifs = [\"SIGAA\", \"SIGRH\", \"REDMINE\"]\n",
    "\n",
    "print(\"Primeiro elemento: {}\".format(sistemas_ifs[0]))\n",
    "print(\"Último elemento: {}\".format(sistemas_ifs[len(sistemas_ifs)-1])) #Ugly way\n",
    "print(\"Último elemento: {}\".format(sistemas_ifs[-1])) #Pythonic way\n"
   ]
  },
  {
   "cell_type": "code",
   "execution_count": 28,
   "metadata": {
    "slideshow": {
     "slide_type": "subslide"
    }
   },
   "outputs": [
    {
     "name": "stdout",
     "output_type": "stream",
     "text": [
      "SIGAA\n",
      "SIGRH\n",
      "REDMINE\n"
     ]
    }
   ],
   "source": [
    "# Iterando sob a lista\n",
    "\n",
    "for sistema in sistemas_ifs:\n",
    "    print(sistema)"
   ]
  },
  {
   "cell_type": "code",
   "execution_count": 29,
   "metadata": {
    "slideshow": {
     "slide_type": "subslide"
    }
   },
   "outputs": [
    {
     "name": "stdout",
     "output_type": "stream",
     "text": [
      "['SIGAA', 'SIGRH', 'REDMINE', 'PRAAE']\n",
      "['SIGAA', 'SIGRH', 'REDMINE', 'PRAAE', 'GLPI']\n",
      "['SIGAA', 'SIGRH', 'REDMINE', 'PRAAE', 'GLPI', 'SIPAC', 'SITE INSTITUCIONAL']\n",
      "Tamanho da lista: 7 \n"
     ]
    }
   ],
   "source": [
    "# Adicionandos novos itens\n",
    "\n",
    "sistemas_ifs.append(\"PRAAE\")\n",
    "print(sistemas_ifs)\n",
    "sistemas_ifs.append(\"GLPI\")\n",
    "print(sistemas_ifs)\n",
    "sistemas_ifs.extend([\"SIPAC\", \"SITE INSTITUCIONAL\"])\n",
    "print(sistemas_ifs)\n",
    "print(\"Tamanho da lista: {} \".format(len(sistemas_ifs)))"
   ]
  },
  {
   "cell_type": "code",
   "execution_count": 30,
   "metadata": {
    "slideshow": {
     "slide_type": "subslide"
    }
   },
   "outputs": [
    {
     "name": "stdout",
     "output_type": "stream",
     "text": [
      "['SIGAA', 'SIGRH', 'REDMINE', 'PRAAE', 'GLPI', 'SIPAC', 'SITE INSTITUCIONAL']\n",
      "['SIGAA', 'SIGRH', 'REDMINE', 'PRAAE', 'GLPI', 'SITE INSTITUCIONAL']\n",
      "Elemento retirado:  SITE INSTITUCIONAL\n",
      "['SIGAA', 'SIGRH', 'REDMINE', 'PRAAE', 'GLPI']\n",
      "Elemento retirado:  GLPI\n",
      "['SIGAA', 'SIGRH', 'REDMINE', 'PRAAE']\n"
     ]
    }
   ],
   "source": [
    "# Removendo elementos\n",
    "\n",
    "print(sistemas_ifs)\n",
    "sistemas_ifs.remove(\"SIPAC\")\n",
    "print(sistemas_ifs)\n",
    "print(\"Elemento retirado: \", sistemas_ifs.pop(-1))\n",
    "print(sistemas_ifs)\n",
    "print(\"Elemento retirado: \", sistemas_ifs.pop(-1))\n",
    "print(sistemas_ifs)"
   ]
  },
  {
   "cell_type": "code",
   "execution_count": 31,
   "metadata": {
    "slideshow": {
     "slide_type": "subslide"
    }
   },
   "outputs": [
    {
     "name": "stdout",
     "output_type": "stream",
     "text": [
      "Identificador: 140316734964616\n",
      "['PRAAE', 'REDMINE', 'SIGAA', 'SIGRH']\n",
      "['PRAAE', 'REDMINE', 'SIGAA', 'SIGRH']\n",
      "140316734964616 140316717534600\n"
     ]
    }
   ],
   "source": [
    "# Ordenando\n",
    "\n",
    "print(\"Identificador: {}\".format(id(sistemas_ifs)))\n",
    "sistemas_ifs.sort() #Ondernação inplace\n",
    "lista_ordenada = sorted(sistemas_ifs) #Sem alteração da lista original\n",
    "\n",
    "print(sistemas_ifs)\n",
    "print(lista_ordenada)\n",
    "print(id(sistemas_ifs), id(lista_ordenada))"
   ]
  },
  {
   "cell_type": "code",
   "execution_count": 32,
   "metadata": {
    "slideshow": {
     "slide_type": "subslide"
    }
   },
   "outputs": [
    {
     "name": "stdout",
     "output_type": "stream",
     "text": [
      "['SIGRH', 'SIGAA', 'REDMINE', 'PRAAE']\n",
      "['PRAAE', 'REDMINE', 'SIGAA', 'SIGRH']\n",
      "140316734964616 140316716908296\n"
     ]
    }
   ],
   "source": [
    "# Invertendo os elementos\n",
    "\n",
    "sistemas_ifs.reverse() #Inversão inplace\n",
    "lista_invertida = list(reversed(sistemas_ifs)) #Sem alteraração da lista original\n",
    "\n",
    "print(sistemas_ifs)\n",
    "print(lista_invertida)\n",
    "print(id(sistemas_ifs), id(lista_invertida))"
   ]
  },
  {
   "cell_type": "code",
   "execution_count": 33,
   "metadata": {
    "slideshow": {
     "slide_type": "subslide"
    }
   },
   "outputs": [
    {
     "name": "stdout",
     "output_type": "stream",
     "text": [
      "0 => SIGRH\n",
      "1 => SIGAA\n",
      "2 => REDMINE\n",
      "3 => PRAAE\n"
     ]
    }
   ],
   "source": [
    "# Iteração numerada:\n",
    "\n",
    "#Tradicionalmente, fazemos:\n",
    "\n",
    "index = 0\n",
    "for sistema in sistemas_ifs:\n",
    "    print(\"{} => {}\".format(index, sistema))\n",
    "    index+=1"
   ]
  },
  {
   "cell_type": "code",
   "execution_count": 34,
   "metadata": {
    "slideshow": {
     "slide_type": "fragment"
    }
   },
   "outputs": [
    {
     "name": "stdout",
     "output_type": "stream",
     "text": [
      "0 => SIGRH\n",
      "1 => SIGAA\n",
      "2 => REDMINE\n",
      "3 => PRAAE\n"
     ]
    }
   ],
   "source": [
    "# Porém, assim é muito mais elegante/pythonico\n",
    "\n",
    "for index, sistema in enumerate(sistemas_ifs):\n",
    "    print(\"{} => {}\".format(index, sistema))"
   ]
  },
  {
   "cell_type": "markdown",
   "metadata": {
    "slideshow": {
     "slide_type": "slide"
    }
   },
   "source": [
    "#### **Slice/fatiamento de listas:**\n",
    "<br/>\n",
    "* Podemos obter qualquer sub-lista de uma lista através da notação: lista[*start*:*end*:*step*]\n",
    "* A partir de indíce *start*, uma sublista é criada até chegar a índice anterior a *end*, com o passo *step*"
   ]
  },
  {
   "cell_type": "code",
   "execution_count": 35,
   "metadata": {
    "slideshow": {
     "slide_type": "subslide"
    }
   },
   "outputs": [
    {
     "data": {
      "text/plain": [
       "[0, 1, 2, 3, 4, 5, 6, 7, 8, 9]"
      ]
     },
     "execution_count": 35,
     "metadata": {},
     "output_type": "execute_result"
    }
   ],
   "source": [
    "numeros = list(range(10))\n",
    "numeros"
   ]
  },
  {
   "cell_type": "code",
   "execution_count": 36,
   "metadata": {
    "slideshow": {
     "slide_type": "fragment"
    }
   },
   "outputs": [
    {
     "data": {
      "text/plain": [
       "[0, 1]"
      ]
     },
     "execution_count": 36,
     "metadata": {},
     "output_type": "execute_result"
    }
   ],
   "source": [
    "numeros[0:2]"
   ]
  },
  {
   "cell_type": "code",
   "execution_count": 37,
   "metadata": {
    "slideshow": {
     "slide_type": "fragment"
    }
   },
   "outputs": [
    {
     "data": {
      "text/plain": [
       "[2, 3, 4]"
      ]
     },
     "execution_count": 37,
     "metadata": {},
     "output_type": "execute_result"
    }
   ],
   "source": [
    "numeros[2:5]"
   ]
  },
  {
   "cell_type": "code",
   "execution_count": 38,
   "metadata": {
    "slideshow": {
     "slide_type": "fragment"
    }
   },
   "outputs": [
    {
     "data": {
      "text/plain": [
       "[5, 6, 7, 8, 9]"
      ]
     },
     "execution_count": 38,
     "metadata": {},
     "output_type": "execute_result"
    }
   ],
   "source": [
    "numeros[5:]"
   ]
  },
  {
   "cell_type": "code",
   "execution_count": 39,
   "metadata": {
    "slideshow": {
     "slide_type": "fragment"
    }
   },
   "outputs": [
    {
     "data": {
      "text/plain": [
       "[0, 2, 4]"
      ]
     },
     "execution_count": 39,
     "metadata": {},
     "output_type": "execute_result"
    }
   ],
   "source": [
    "numeros[0:5:2]"
   ]
  },
  {
   "cell_type": "code",
   "execution_count": 40,
   "metadata": {
    "slideshow": {
     "slide_type": "fragment"
    }
   },
   "outputs": [
    {
     "data": {
      "text/plain": [
       "[5, 3, 1]"
      ]
     },
     "execution_count": 40,
     "metadata": {},
     "output_type": "execute_result"
    }
   ],
   "source": [
    "numeros[5:0:-2]"
   ]
  },
  {
   "cell_type": "code",
   "execution_count": 41,
   "metadata": {
    "slideshow": {
     "slide_type": "subslide"
    }
   },
   "outputs": [
    {
     "data": {
      "text/plain": [
       "[0, 1, 2, 3, 4, 5, 6, 7, 8]"
      ]
     },
     "execution_count": 41,
     "metadata": {},
     "output_type": "execute_result"
    }
   ],
   "source": [
    "numeros[0:-1]"
   ]
  },
  {
   "cell_type": "code",
   "execution_count": 42,
   "metadata": {
    "slideshow": {
     "slide_type": "fragment"
    }
   },
   "outputs": [
    {
     "data": {
      "text/plain": [
       "[9, 8]"
      ]
     },
     "execution_count": 42,
     "metadata": {},
     "output_type": "execute_result"
    }
   ],
   "source": [
    "numeros[-1:-3:-1]"
   ]
  },
  {
   "cell_type": "code",
   "execution_count": 43,
   "metadata": {
    "slideshow": {
     "slide_type": "fragment"
    }
   },
   "outputs": [
    {
     "data": {
      "text/plain": [
       "[0, 1, 2, 3, 4, 5, 6, 7, 8, 9]"
      ]
     },
     "execution_count": 43,
     "metadata": {},
     "output_type": "execute_result"
    }
   ],
   "source": [
    "numeros[::]"
   ]
  },
  {
   "cell_type": "code",
   "execution_count": 44,
   "metadata": {
    "slideshow": {
     "slide_type": "fragment"
    }
   },
   "outputs": [
    {
     "data": {
      "text/plain": [
       "[9, 8, 7, 6, 5, 4, 3, 2, 1, 0]"
      ]
     },
     "execution_count": 44,
     "metadata": {},
     "output_type": "execute_result"
    }
   ],
   "source": [
    "numeros[::-1]"
   ]
  },
  {
   "cell_type": "markdown",
   "metadata": {
    "slideshow": {
     "slide_type": "slide"
    }
   },
   "source": [
    "### **Tuplas:**\n",
    "***\n",
    "<br/>\n",
    "\n",
    "* Também são coleções **heterogêneas** de objetos.\n",
    "* Muito similar às listas, com execeção de que elas são são **imutáveis**."
   ]
  },
  {
   "cell_type": "code",
   "execution_count": 45,
   "metadata": {
    "slideshow": {
     "slide_type": "fragment"
    }
   },
   "outputs": [
    {
     "data": {
      "text/plain": [
       "('Segunda', 'Terça', 'Quarta', 'Quinta', 'Sexta', 'Sábado', 'Domingo')"
      ]
     },
     "execution_count": 45,
     "metadata": {},
     "output_type": "execute_result"
    }
   ],
   "source": [
    "# Criando tuplas\n",
    "\n",
    "dias_da_semana = (\"Segunda\", \"Terça\", \"Quarta\", \"Quinta\", \"Sexta\", 'Sábado', \"Domingo\")\n",
    "dias_da_semana"
   ]
  },
  {
   "cell_type": "code",
   "execution_count": 46,
   "metadata": {
    "slideshow": {
     "slide_type": "subslide"
    }
   },
   "outputs": [
    {
     "data": {
      "text/plain": [
       "(('Segunda', 'SEG'),\n",
       " ('Terça', 'TER'),\n",
       " ('Quarta', 'QUA'),\n",
       " ('Quinta', 'QUI'),\n",
       " ('Sexta', 'SEX'),\n",
       " ('Sábado', 'SAB'),\n",
       " ('Domingo', 'DOM'))"
      ]
     },
     "execution_count": 46,
     "metadata": {},
     "output_type": "execute_result"
    }
   ],
   "source": [
    "# Criando tuplas\n",
    "\n",
    "abreviacoes = tuple(\"SEG TER QUA QUI SEX SAB\".split())\n",
    "\n",
    "dias_da_semana_com_abreviacoes = (\"Segunda\", \"SEG\"), (\"Terça\", \"TER\"), (\"Quarta\", \"QUA\"), \\\n",
    "(\"Quinta\",\"QUI\"), (\"Sexta\", \"SEX\"), (\"Sábado\", \"SAB\"), (\"Domingo\", \"DOM\")\n",
    "dias_da_semana_com_abreviacoes"
   ]
  },
  {
   "cell_type": "code",
   "execution_count": 47,
   "metadata": {
    "slideshow": {
     "slide_type": "subslide"
    }
   },
   "outputs": [
    {
     "name": "stdout",
     "output_type": "stream",
     "text": [
      "['SIGRH', 'SIGAA', 'REDMINE', 'PRAAE']\n",
      "<class 'tuple'> | ('SIGRH', 'SIGAA', 'REDMINE', 'PRAAE')\n"
     ]
    }
   ],
   "source": [
    "# Convertendo listas em tuplas\n",
    "\n",
    "print(sistemas_ifs)\n",
    "\n",
    "sistemas_ifs= tuple(sistemas_ifs)\n",
    "print(type(sistemas_ifs), \"|\", sistemas_ifs)"
   ]
  },
  {
   "cell_type": "markdown",
   "metadata": {
    "slideshow": {
     "slide_type": "slide"
    }
   },
   "source": [
    "### **Dicionários:**\n",
    "***\n",
    "<br/>\n",
    "\n",
    "* Lista de associações compostas composta por uma **chave única** e estruturas correspondentes.\n",
    "* São mutáveis\n",
    "* As **chaves** devem ser tipos **imutáveis**, como *strings* ou *tuplas*\n",
    "* A ordem em que as chaves foram inseridas não é garantida."
   ]
  },
  {
   "cell_type": "code",
   "execution_count": 48,
   "metadata": {
    "slideshow": {
     "slide_type": "fragment"
    }
   },
   "outputs": [],
   "source": [
    "# Criando dicionários\n",
    "\n",
    "nome_2_abreviacao_map = {} #Inicializando um dicionário\n",
    "nome_2_abreviacao_map = dict() # Dá no mesmo que a expressão anterior"
   ]
  },
  {
   "cell_type": "code",
   "execution_count": 49,
   "metadata": {
    "slideshow": {
     "slide_type": "subslide"
    }
   },
   "outputs": [
    {
     "data": {
      "text/plain": [
       "{'segunda': 'SEG',\n",
       " 'terça': 'TER',\n",
       " 'quarta': 'QUA',\n",
       " 'quinta': 'QUI',\n",
       " 'sexta': 'SEX',\n",
       " 'sábado': 'SAB',\n",
       " 'domingo': 'DOM'}"
      ]
     },
     "execution_count": 49,
     "metadata": {},
     "output_type": "execute_result"
    }
   ],
   "source": [
    "# Inserindo cada chave individualmente\n",
    "\n",
    "nome_2_abreviacao_map[\"segunda\"] = \"SEG\"\n",
    "nome_2_abreviacao_map[\"terça\"] = \"TER\"\n",
    "nome_2_abreviacao_map[\"quarta\"] = \"QUA\"\n",
    "nome_2_abreviacao_map[\"quinta\"] = \"QUI\"\n",
    "nome_2_abreviacao_map[\"sexta\"] = \"SEX\"\n",
    "nome_2_abreviacao_map[\"sábado\"] = \"SAB\"\n",
    "nome_2_abreviacao_map[\"domingo\"] = \"DOM\"\n",
    "\n",
    "nome_2_abreviacao_map"
   ]
  },
  {
   "cell_type": "code",
   "execution_count": 50,
   "metadata": {
    "slideshow": {
     "slide_type": "subslide"
    }
   },
   "outputs": [
    {
     "data": {
      "text/plain": [
       "{'segunda': 'SEG',\n",
       " 'terça': 'TER',\n",
       " 'quarta': 'QUA',\n",
       " 'quinta': 'QUI',\n",
       " 'sexta': 'SEX',\n",
       " 'sábado': 'SAB',\n",
       " 'domingo': 'DOM'}"
      ]
     },
     "execution_count": 50,
     "metadata": {},
     "output_type": "execute_result"
    }
   ],
   "source": [
    "# Criando e inicializando\n",
    "\n",
    "nome_2_abreviacao_map = {\n",
    "    \"segunda\": \"SEG\",\n",
    "    \"terça\": \"TER\",\n",
    "    \"quarta\": \"QUA\",\n",
    "    \"quinta\" :\"QUI\",\n",
    "    \"sexta\": \"SEX\",\n",
    "    \"sábado\": \"SAB\",\n",
    "    \"domingo\" : \"DOM\",\n",
    "}\n",
    "\n",
    "nome_2_abreviacao_map"
   ]
  },
  {
   "cell_type": "code",
   "execution_count": 51,
   "metadata": {
    "slideshow": {
     "slide_type": "subslide"
    }
   },
   "outputs": [
    {
     "name": "stdout",
     "output_type": "stream",
     "text": [
      "SEG\n",
      "--\n"
     ]
    }
   ],
   "source": [
    "# Acessando elementos\n",
    "\n",
    "print(nome_2_abreviacao_map[\"segunda\"]) #Acessando o item por sua chave, causa erro se não houver\n",
    "print(nome_2_abreviacao_map.get(\"SEGUNDA\", \"--\")) #Não causa erro retornar o valor padrão"
   ]
  },
  {
   "cell_type": "code",
   "execution_count": 52,
   "metadata": {},
   "outputs": [
    {
     "data": {
      "text/plain": [
       "{'terça': 'TER',\n",
       " 'quarta': 'QUA',\n",
       " 'quinta': 'QUI',\n",
       " 'sexta': 'SEX',\n",
       " 'sábado': 'SAB',\n",
       " 'domingo': 'DOM'}"
      ]
     },
     "execution_count": 52,
     "metadata": {},
     "output_type": "execute_result"
    }
   ],
   "source": [
    "# Apagando elementos de um dicionário:\n",
    "\n",
    "del nome_2_abreviacao_map[\"segunda\"]\n",
    "\n",
    "nome_2_abreviacao_map"
   ]
  }
 ],
 "metadata": {
  "kernelspec": {
   "display_name": "Python 3",
   "language": "python",
   "name": "python3"
  },
  "language_info": {
   "codemirror_mode": {
    "name": "ipython",
    "version": 3
   },
   "file_extension": ".py",
   "mimetype": "text/x-python",
   "name": "python",
   "nbconvert_exporter": "python",
   "pygments_lexer": "ipython3",
   "version": "3.7.1"
  }
 },
 "nbformat": 4,
 "nbformat_minor": 2
}
