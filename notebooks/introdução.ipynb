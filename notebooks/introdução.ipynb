{
 "cells": [
  {
   "cell_type": "markdown",
   "metadata": {
    "slideshow": {
     "slide_type": "slide"
    }
   },
   "source": [
    "# **Resultado da votação**\n",
    "***"
   ]
  },
  {
   "cell_type": "markdown",
   "metadata": {},
   "source": [
    "![Votação](imagens/sobre_este_curso.png)"
   ]
  },
  {
   "cell_type": "markdown",
   "metadata": {
    "slideshow": {
     "slide_type": "slide"
    }
   },
   "source": [
    "# **Ementa**\n",
    "***\n",
    "* **Primeiro dia**\n",
    "    - Introdução ao python: conceitos gerais sobre a linguagem\n",
    "    - Variáveis, tipos primitivos, funções, pacotes e módulos, orientação a objetos\n",
    "    - Boas práticas no desenvolvimento com Python\n",
    "    - Estudos de caso ligados a serviços e demandas da DTI\n"
   ]
  },
  {
   "cell_type": "markdown",
   "metadata": {
    "slideshow": {
     "slide_type": "subslide"
    }
   },
   "source": [
    "\n",
    "\n",
    "* **Segundo Dia**\n",
    " - Manipulando Bases de dados relacionais com o SqlAlchemy\n",
    " - Criação de APIs RestFull com o micro-framework Flask\n",
    " - Introdução à criação de sistemas web com o framework Django\n",
    " - Estudos de caso ligados a serviços e demandas da DTI"
   ]
  },
  {
   "cell_type": "markdown",
   "metadata": {
    "slideshow": {
     "slide_type": "slide"
    }
   },
   "source": [
    "# **Conceitos gerais sobre o Python** \n",
    "***\n",
    "* Linguagem de **script**, propósito geral e alto nível.\n",
    "    - Adicionar novas funcionalidades a softwares existentes. <br/>\n",
    "    - Listas, tuplas, dicionários, data/hora, números complexos <br/>\n",
    "    - Geradores, introspecção, persistência, metaclasses, e unidades de teste"
   ]
  },
  {
   "cell_type": "markdown",
   "metadata": {
    "slideshow": {
     "slide_type": "subslide"
    }
   },
   "source": [
    "* Orientada a objetos, de tipagem **dinâmica e forte**, **interpretada** e **interativa**."
   ]
  },
  {
   "cell_type": "markdown",
   "metadata": {},
   "source": [
    "![Votação](imagens/imagem_exemplo_1.png)"
   ]
  },
  {
   "cell_type": "markdown",
   "metadata": {
    "slideshow": {
     "slide_type": "subslide"
    }
   },
   "source": [
    "* Multiplatarfoma e geração de **_bytecode_**.\n",
    "    - Redução do tempo de carga na execução.\n",
    "    - Máquina Virtual.\n",
    "    - Código **_bytecode_* portável: **.pyc**"
   ]
  },
  {
   "cell_type": "markdown",
   "metadata": {
    "slideshow": {
     "slide_type": "subslide"
    }
   },
   "source": [
    "* Sintaxe clara, fato que favorece a **legibilidade** do código e **produtividade**."
   ]
  },
  {
   "cell_type": "code",
   "execution_count": 29,
   "metadata": {
    "slideshow": {
     "slide_type": "subslide"
    }
   },
   "outputs": [
    {
     "data": {
      "text/plain": [
       "[56.2, 51.7, 55.3, 52.5, 47.8]"
      ]
     },
     "execution_count": 29,
     "metadata": {},
     "output_type": "execute_result"
    }
   ],
   "source": [
    "import math\n",
    "raw_data = [56.2, float('NaN'), 51.7, 55.3, 52.5, float('NaN'), 47.8]\n",
    "filtered_data = []\n",
    "for value in raw_data:\n",
    "    if not math.isnan(value):\n",
    "        filtered_data.append(value)\n",
    "filtered_data"
   ]
  },
  {
   "cell_type": "code",
   "execution_count": 33,
   "metadata": {
    "slideshow": {
     "slide_type": "subslide"
    }
   },
   "outputs": [
    {
     "data": {
      "text/plain": [
       "[56.2, 51.7, 55.3, 52.5, 47.8]"
      ]
     },
     "execution_count": 33,
     "metadata": {},
     "output_type": "execute_result"
    }
   ],
   "source": [
    "# Faz o mesmo que o código anterior, porém é mais pythonico\n",
    "\n",
    "import math\n",
    "raw_data = [56.2, float('NaN'), 51.7, 55.3, 52.5, float('NaN'), 47.8]\n",
    "\n",
    "filtered_data = [value for value in raw_data if not math.isnan(value)]\n",
    "\n",
    "filtered_data"
   ]
  },
  {
   "cell_type": "markdown",
   "metadata": {
    "slideshow": {
     "slide_type": "subslide"
    }
   },
   "source": [
    "* Código aberto e mantido pela **Python Software Founfdation** (PSF)"
   ]
  }
 ],
 "metadata": {
  "kernelspec": {
   "display_name": "Python 3",
   "language": "python",
   "name": "python3"
  },
  "language_info": {
   "codemirror_mode": {
    "name": "ipython",
    "version": 3
   },
   "file_extension": ".py",
   "mimetype": "text/x-python",
   "name": "python",
   "nbconvert_exporter": "python",
   "pygments_lexer": "ipython3",
   "version": "3.7.1"
  }
 },
 "nbformat": 4,
 "nbformat_minor": 2
}
